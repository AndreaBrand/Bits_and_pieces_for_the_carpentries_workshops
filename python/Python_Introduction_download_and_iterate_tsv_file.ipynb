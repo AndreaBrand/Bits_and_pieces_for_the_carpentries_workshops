{
 "cells": [
  {
   "cell_type": "code",
   "execution_count": 11,
   "metadata": {},
   "outputs": [
    {
     "data": {
      "text/plain": [
       "('DOIs_PMIDs_PubYears.tsv', <http.client.HTTPMessage at 0x7f6650305e10>)"
      ]
     },
     "execution_count": 11,
     "metadata": {},
     "output_type": "execute_result"
    }
   ],
   "source": [
    "import urllib.request\n",
    "url = \"https://raw.githubusercontent.com/foerstner-lab/Bits_and_pieces_for_the_carpentries_workshops/master/plain_text_file_examples/DOIs_PMIDs_PubYears.tsv\"\n",
    "tsv_file = \"DOIs_PMIDs_PubYears.tsv\"\n",
    "urllib.request.urlretrieve(url, tsv_file)"
   ]
  },
  {
   "cell_type": "code",
   "execution_count": 12,
   "metadata": {},
   "outputs": [
    {
     "name": "stdout",
     "output_type": "stream",
     "text": [
      "DOI\tPMID\tYear\n",
      "\n",
      "Year\n",
      "\n",
      "    10.1007/164_2019_213\t31119463\t2019\n",
      "\n",
      "2019\n",
      "\n",
      "10.1371/journal.pone.0212463\t30779778\t2019\n",
      "\n",
      "2019\n",
      "\n",
      "10.21105/joss.00885\t310809422018\t2018\n",
      "\n",
      "2018\n",
      "\n",
      "10.1371/journal.pone.0215137\t30973910\t2018\n",
      "\n",
      "2018\n",
      "\n",
      "1371/journal.pcbi.1006473 \t30763318\t2019\n",
      "\n",
      "2019\n",
      "\n"
     ]
    }
   ],
   "source": [
    "for line in open(tsv_file):\n",
    "    print(line)\n",
    "    split_line = line.split(\"\\t\")\n",
    "    print(split_line[2])"
   ]
  },
  {
   "cell_type": "code",
   "execution_count": null,
   "metadata": {},
   "outputs": [],
   "source": []
  }
 ],
 "metadata": {
  "kernelspec": {
   "display_name": "Python 3",
   "language": "python",
   "name": "python3"
  },
  "language_info": {
   "codemirror_mode": {
    "name": "ipython",
    "version": 3
   },
   "file_extension": ".py",
   "mimetype": "text/x-python",
   "name": "python",
   "nbconvert_exporter": "python",
   "pygments_lexer": "ipython3",
   "version": "3.7.2"
  }
 },
 "nbformat": 4,
 "nbformat_minor": 2
}
