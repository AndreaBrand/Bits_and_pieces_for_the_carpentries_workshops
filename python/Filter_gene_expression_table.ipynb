{
 "cells": [
  {
   "cell_type": "code",
   "execution_count": 4,
   "metadata": {},
   "outputs": [],
   "source": [
    "import numpy as np\n",
    "import pandas as pd"
   ]
  },
  {
   "cell_type": "markdown",
   "metadata": {},
   "source": [
    "## Data input - Option 1 - Generate random data"
   ]
  },
  {
   "cell_type": "code",
   "execution_count": null,
   "metadata": {},
   "outputs": [],
   "source": []
  },
  {
   "cell_type": "code",
   "execution_count": 93,
   "metadata": {},
   "outputs": [],
   "source": [
    "# Generate data frame of random numbers with artificial ENSEMBL gene ID\n",
    "np.seed = 1\n",
    "number_of_rows = 30000\n",
    "expression_df = pd.DataFrame({\n",
    "    \"ENSEMBL_Gene_ID\": [f\"ENSG{x:010}\" for x in range(1, number_of_rows + 1)],\n",
    "    \"fold_changes\": np.random.randn(number_of_rows)* 5,\n",
    "    \"adjusted_p_values\": np.random.randint(0, 10000, number_of_rows)/10000,\n",
    "    \"gene_length\": np.abs(np.round((np.random.randn(number_of_rows)* 50000).astype(int), 0)),\n",
    "    \"chromosome\": [f\"Chr{chr_number}\" for chr_number in np.random.choice(range(1, 24), size=number_of_rows)]})"
   ]
  },
  {
   "cell_type": "code",
   "execution_count": 94,
   "metadata": {},
   "outputs": [
    {
     "data": {
      "text/html": [
       "<div>\n",
       "<style scoped>\n",
       "    .dataframe tbody tr th:only-of-type {\n",
       "        vertical-align: middle;\n",
       "    }\n",
       "\n",
       "    .dataframe tbody tr th {\n",
       "        vertical-align: top;\n",
       "    }\n",
       "\n",
       "    .dataframe thead th {\n",
       "        text-align: right;\n",
       "    }\n",
       "</style>\n",
       "<table border=\"1\" class=\"dataframe\">\n",
       "  <thead>\n",
       "    <tr style=\"text-align: right;\">\n",
       "      <th></th>\n",
       "      <th>ENSEMBL_Gene_ID</th>\n",
       "      <th>fold_changes</th>\n",
       "      <th>adjusted_p_values</th>\n",
       "      <th>gene_length</th>\n",
       "      <th>chromosome</th>\n",
       "    </tr>\n",
       "  </thead>\n",
       "  <tbody>\n",
       "    <tr>\n",
       "      <th>0</th>\n",
       "      <td>ENSG0000000001</td>\n",
       "      <td>0.189087</td>\n",
       "      <td>0.0471</td>\n",
       "      <td>9316</td>\n",
       "      <td>Chr14</td>\n",
       "    </tr>\n",
       "    <tr>\n",
       "      <th>1</th>\n",
       "      <td>ENSG0000000002</td>\n",
       "      <td>-5.634089</td>\n",
       "      <td>0.2979</td>\n",
       "      <td>56268</td>\n",
       "      <td>Chr14</td>\n",
       "    </tr>\n",
       "    <tr>\n",
       "      <th>2</th>\n",
       "      <td>ENSG0000000003</td>\n",
       "      <td>2.299403</td>\n",
       "      <td>0.0392</td>\n",
       "      <td>21196</td>\n",
       "      <td>Chr18</td>\n",
       "    </tr>\n",
       "    <tr>\n",
       "      <th>3</th>\n",
       "      <td>ENSG0000000004</td>\n",
       "      <td>3.158509</td>\n",
       "      <td>0.6070</td>\n",
       "      <td>10475</td>\n",
       "      <td>Chr3</td>\n",
       "    </tr>\n",
       "    <tr>\n",
       "      <th>4</th>\n",
       "      <td>ENSG0000000005</td>\n",
       "      <td>9.363806</td>\n",
       "      <td>0.7727</td>\n",
       "      <td>44655</td>\n",
       "      <td>Chr18</td>\n",
       "    </tr>\n",
       "    <tr>\n",
       "      <th>5</th>\n",
       "      <td>ENSG0000000006</td>\n",
       "      <td>2.461964</td>\n",
       "      <td>0.5731</td>\n",
       "      <td>21098</td>\n",
       "      <td>Chr22</td>\n",
       "    </tr>\n",
       "    <tr>\n",
       "      <th>6</th>\n",
       "      <td>ENSG0000000007</td>\n",
       "      <td>2.751759</td>\n",
       "      <td>0.2866</td>\n",
       "      <td>73851</td>\n",
       "      <td>Chr19</td>\n",
       "    </tr>\n",
       "    <tr>\n",
       "      <th>7</th>\n",
       "      <td>ENSG0000000008</td>\n",
       "      <td>1.388495</td>\n",
       "      <td>0.7078</td>\n",
       "      <td>75717</td>\n",
       "      <td>Chr19</td>\n",
       "    </tr>\n",
       "    <tr>\n",
       "      <th>8</th>\n",
       "      <td>ENSG0000000009</td>\n",
       "      <td>0.246048</td>\n",
       "      <td>0.9665</td>\n",
       "      <td>7705</td>\n",
       "      <td>Chr14</td>\n",
       "    </tr>\n",
       "    <tr>\n",
       "      <th>9</th>\n",
       "      <td>ENSG0000000010</td>\n",
       "      <td>0.231267</td>\n",
       "      <td>0.4119</td>\n",
       "      <td>154146</td>\n",
       "      <td>Chr18</td>\n",
       "    </tr>\n",
       "  </tbody>\n",
       "</table>\n",
       "</div>"
      ],
      "text/plain": [
       "  ENSEMBL_Gene_ID  fold_changes  adjusted_p_values  gene_length chromosome\n",
       "0  ENSG0000000001      0.189087             0.0471         9316      Chr14\n",
       "1  ENSG0000000002     -5.634089             0.2979        56268      Chr14\n",
       "2  ENSG0000000003      2.299403             0.0392        21196      Chr18\n",
       "3  ENSG0000000004      3.158509             0.6070        10475       Chr3\n",
       "4  ENSG0000000005      9.363806             0.7727        44655      Chr18\n",
       "5  ENSG0000000006      2.461964             0.5731        21098      Chr22\n",
       "6  ENSG0000000007      2.751759             0.2866        73851      Chr19\n",
       "7  ENSG0000000008      1.388495             0.7078        75717      Chr19\n",
       "8  ENSG0000000009      0.246048             0.9665         7705      Chr14\n",
       "9  ENSG0000000010      0.231267             0.4119       154146      Chr18"
      ]
     },
     "execution_count": 94,
     "metadata": {},
     "output_type": "execute_result"
    }
   ],
   "source": [
    "expression_df.head(10)"
   ]
  },
  {
   "cell_type": "code",
   "execution_count": 98,
   "metadata": {},
   "outputs": [],
   "source": [
    "output_fh = open(\"Expression_data.csv\", \"w\")\n",
    "output_fh.write(\"# Randomly generate gene expression data\\n\")\n",
    "expression_df.to_csv(output_fh, sep=\"\\t\")"
   ]
  },
  {
   "cell_type": "code",
   "execution_count": 97,
   "metadata": {},
   "outputs": [
    {
     "name": "stdout",
     "output_type": "stream",
     "text": [
      "4.0K\tClass_example.ipynb\r\n",
      "8.0K\tDOI_to_PMID_and_vice-versa.ipynb\r\n",
      "4.0K\tExpression_comparison.csv\r\n",
      "8.0K\tExpression_comparison.xlsx\r\n",
      "1.7M\tExpression_data.csv\r\n",
      "12K\tFilter_gene_expression_table.ipynb\r\n",
      "132K\tGFF_gene_lenght_analysis_with_Python.ipynb\r\n",
      "92K\tHeatmap_of_a_gene_expression_analysis.ipynb\r\n",
      "440K\tIntro_to_pandas_with_OpenAPC_data.ipynb\r\n",
      "4.0K\tisbn.txt\r\n",
      "4.0K\tISBN_validity_checker.ipynb\r\n",
      "20K\tMetadata_via_DOI_from_CrossRef.ipynb\r\n",
      "8.0K\tMetadata_via_PMID.ipynb\r\n",
      "384K\tPubMed_search.ipynb\r\n",
      "20K\tPython_Basics_de.ipynb\r\n",
      "8.0K\tPython_Introduction_download_and_iterate_tsv_file.ipynb\r\n",
      "4.0K\tUntitled.ipynb\r\n",
      "2.8M\ttotal\r\n"
     ]
    }
   ],
   "source": [
    "!du -sch *"
   ]
  },
  {
   "cell_type": "code",
   "execution_count": 99,
   "metadata": {},
   "outputs": [
    {
     "name": "stdout",
     "output_type": "stream",
     "text": [
      "# Randomly generate gene expression data\r\n",
      "\tENSEMBL_Gene_ID\tfold_changes\tadjusted_p_values\tgene_length\tchromosome\r\n",
      "0\tENSG0000000001\t0.18908655821235454\t0.0471\t9316\tChr14\r\n",
      "1\tENSG0000000002\t-5.634089182195085\t0.2979\t56268\tChr14\r\n",
      "2\tENSG0000000003\t2.299402864280683\t0.0392\t21196\tChr18\r\n",
      "3\tENSG0000000004\t3.1585086421768165\t0.607\t10475\tChr3\r\n",
      "4\tENSG0000000005\t9.363805769509534\t0.7727\t44655\tChr18\r\n",
      "5\tENSG0000000006\t2.4619637633010307\t0.5731\t21098\tChr22\r\n",
      "6\tENSG0000000007\t2.7517587124289973\t0.2866\t73851\tChr19\r\n",
      "7\tENSG0000000008\t1.3884948052499886\t0.7078\t75717\tChr19\r\n"
     ]
    }
   ],
   "source": [
    "!head Expression_data.csv"
   ]
  },
  {
   "cell_type": "markdown",
   "metadata": {},
   "source": [
    "## Data input - Option 2 - Download (randomly generated) data "
   ]
  },
  {
   "cell_type": "code",
   "execution_count": 100,
   "metadata": {},
   "outputs": [],
   "source": [
    "import urllib.request\n",
    "source_url = \"https://github.com/foerstner-lab/Bits_and_pieces_for_the_carpentries_workshops/blob/master/python/Expression_data.csv?raw=true\"\n",
    "expression_data_file = \"Expression_data.csv\""
   ]
  },
  {
   "cell_type": "code",
   "execution_count": 101,
   "metadata": {},
   "outputs": [],
   "source": [
    "expression_df = pd.read_csv(expression_data_file, sep=\"\\t\", comment=\"#\")"
   ]
  },
  {
   "cell_type": "markdown",
   "metadata": {},
   "source": [
    "## The actual analysis"
   ]
  },
  {
   "cell_type": "code",
   "execution_count": null,
   "metadata": {},
   "outputs": [],
   "source": []
  }
 ],
 "metadata": {
  "kernelspec": {
   "display_name": "Python 3",
   "language": "python",
   "name": "python3"
  },
  "language_info": {
   "codemirror_mode": {
    "name": "ipython",
    "version": 3
   },
   "file_extension": ".py",
   "mimetype": "text/x-python",
   "name": "python",
   "nbconvert_exporter": "python",
   "pygments_lexer": "ipython3",
   "version": "3.7.3"
  }
 },
 "nbformat": 4,
 "nbformat_minor": 2
}
