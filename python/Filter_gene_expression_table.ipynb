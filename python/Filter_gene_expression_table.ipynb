{
 "cells": [
  {
   "cell_type": "code",
   "execution_count": 1,
   "metadata": {},
   "outputs": [],
   "source": [
    "import numpy as np\n",
    "import pandas as pd"
   ]
  },
  {
   "cell_type": "markdown",
   "metadata": {},
   "source": [
    "## Data input - Option 1 - Generate random data"
   ]
  },
  {
   "cell_type": "code",
   "execution_count": 2,
   "metadata": {},
   "outputs": [],
   "source": [
    "# Generate data frame of random numbers with artificial ENSEMBL gene ID\n",
    "np.seed = 1\n",
    "number_of_rows = 30000\n",
    "expression_df = pd.DataFrame({\n",
    "    \"ENSEMBL_Gene_ID\": [f\"ENSG{x:010}\" for x in range(1, number_of_rows + 1)],\n",
    "    \"fold_changes\": np.random.randn(number_of_rows)* 5,\n",
    "    \"adjusted_p_values\": np.random.randint(0, 10000, number_of_rows)/10000,\n",
    "    \"gene_length\": np.abs(np.round((np.random.randn(number_of_rows)* 50000).astype(int), 0)),\n",
    "    \"chromosome\": [f\"Chr{chr_number}\" for chr_number in np.random.choice(range(1, 24), size=number_of_rows)]})"
   ]
  },
  {
   "cell_type": "code",
   "execution_count": 3,
   "metadata": {},
   "outputs": [
    {
     "data": {
      "text/html": [
       "<div>\n",
       "<style scoped>\n",
       "    .dataframe tbody tr th:only-of-type {\n",
       "        vertical-align: middle;\n",
       "    }\n",
       "\n",
       "    .dataframe tbody tr th {\n",
       "        vertical-align: top;\n",
       "    }\n",
       "\n",
       "    .dataframe thead th {\n",
       "        text-align: right;\n",
       "    }\n",
       "</style>\n",
       "<table border=\"1\" class=\"dataframe\">\n",
       "  <thead>\n",
       "    <tr style=\"text-align: right;\">\n",
       "      <th></th>\n",
       "      <th>ENSEMBL_Gene_ID</th>\n",
       "      <th>fold_changes</th>\n",
       "      <th>adjusted_p_values</th>\n",
       "      <th>gene_length</th>\n",
       "      <th>chromosome</th>\n",
       "    </tr>\n",
       "  </thead>\n",
       "  <tbody>\n",
       "    <tr>\n",
       "      <th>0</th>\n",
       "      <td>ENSG0000000001</td>\n",
       "      <td>-4.152738</td>\n",
       "      <td>0.9047</td>\n",
       "      <td>20564</td>\n",
       "      <td>Chr10</td>\n",
       "    </tr>\n",
       "    <tr>\n",
       "      <th>1</th>\n",
       "      <td>ENSG0000000002</td>\n",
       "      <td>-0.914910</td>\n",
       "      <td>0.0730</td>\n",
       "      <td>85154</td>\n",
       "      <td>Chr5</td>\n",
       "    </tr>\n",
       "    <tr>\n",
       "      <th>2</th>\n",
       "      <td>ENSG0000000003</td>\n",
       "      <td>-1.829725</td>\n",
       "      <td>0.4727</td>\n",
       "      <td>5066</td>\n",
       "      <td>Chr10</td>\n",
       "    </tr>\n",
       "    <tr>\n",
       "      <th>3</th>\n",
       "      <td>ENSG0000000004</td>\n",
       "      <td>-0.514840</td>\n",
       "      <td>0.2740</td>\n",
       "      <td>1819</td>\n",
       "      <td>Chr19</td>\n",
       "    </tr>\n",
       "    <tr>\n",
       "      <th>4</th>\n",
       "      <td>ENSG0000000005</td>\n",
       "      <td>0.048869</td>\n",
       "      <td>0.8498</td>\n",
       "      <td>5969</td>\n",
       "      <td>Chr18</td>\n",
       "    </tr>\n",
       "    <tr>\n",
       "      <th>5</th>\n",
       "      <td>ENSG0000000006</td>\n",
       "      <td>8.087540</td>\n",
       "      <td>0.1287</td>\n",
       "      <td>31529</td>\n",
       "      <td>Chr3</td>\n",
       "    </tr>\n",
       "    <tr>\n",
       "      <th>6</th>\n",
       "      <td>ENSG0000000007</td>\n",
       "      <td>3.397624</td>\n",
       "      <td>0.8135</td>\n",
       "      <td>108459</td>\n",
       "      <td>Chr23</td>\n",
       "    </tr>\n",
       "    <tr>\n",
       "      <th>7</th>\n",
       "      <td>ENSG0000000008</td>\n",
       "      <td>-1.139544</td>\n",
       "      <td>0.6400</td>\n",
       "      <td>9589</td>\n",
       "      <td>Chr20</td>\n",
       "    </tr>\n",
       "    <tr>\n",
       "      <th>8</th>\n",
       "      <td>ENSG0000000009</td>\n",
       "      <td>-5.312722</td>\n",
       "      <td>0.9008</td>\n",
       "      <td>46748</td>\n",
       "      <td>Chr23</td>\n",
       "    </tr>\n",
       "    <tr>\n",
       "      <th>9</th>\n",
       "      <td>ENSG0000000010</td>\n",
       "      <td>3.783711</td>\n",
       "      <td>0.3808</td>\n",
       "      <td>50163</td>\n",
       "      <td>Chr23</td>\n",
       "    </tr>\n",
       "  </tbody>\n",
       "</table>\n",
       "</div>"
      ],
      "text/plain": [
       "  ENSEMBL_Gene_ID  fold_changes  adjusted_p_values  gene_length chromosome\n",
       "0  ENSG0000000001     -4.152738             0.9047        20564      Chr10\n",
       "1  ENSG0000000002     -0.914910             0.0730        85154       Chr5\n",
       "2  ENSG0000000003     -1.829725             0.4727         5066      Chr10\n",
       "3  ENSG0000000004     -0.514840             0.2740         1819      Chr19\n",
       "4  ENSG0000000005      0.048869             0.8498         5969      Chr18\n",
       "5  ENSG0000000006      8.087540             0.1287        31529       Chr3\n",
       "6  ENSG0000000007      3.397624             0.8135       108459      Chr23\n",
       "7  ENSG0000000008     -1.139544             0.6400         9589      Chr20\n",
       "8  ENSG0000000009     -5.312722             0.9008        46748      Chr23\n",
       "9  ENSG0000000010      3.783711             0.3808        50163      Chr23"
      ]
     },
     "execution_count": 3,
     "metadata": {},
     "output_type": "execute_result"
    }
   ],
   "source": [
    "expression_df.head(10)"
   ]
  },
  {
   "cell_type": "code",
   "execution_count": 4,
   "metadata": {},
   "outputs": [],
   "source": [
    "output_fh = open(\"Expression_data.csv\", \"w\")\n",
    "output_fh.write(\"# Randomly generate gene expression data\\n\")\n",
    "expression_df.to_csv(output_fh, sep=\"\\t\")"
   ]
  },
  {
   "cell_type": "markdown",
   "metadata": {},
   "source": [
    "## Data input - Option 2 - Download (randomly generated) data "
   ]
  },
  {
   "cell_type": "code",
   "execution_count": 5,
   "metadata": {},
   "outputs": [],
   "source": [
    "import urllib.request\n",
    "source_url = \"https://github.com/foerstner-lab/Bits_and_pieces_for_the_carpentries_workshops/blob/master/python/Expression_data.csv?raw=true\"\n",
    "expression_data_file = \"Expression_data.csv\""
   ]
  },
  {
   "cell_type": "code",
   "execution_count": 6,
   "metadata": {},
   "outputs": [],
   "source": [
    "expression_df = pd.read_csv(expression_data_file, sep=\"\\t\", comment=\"#\")"
   ]
  },
  {
   "cell_type": "markdown",
   "metadata": {},
   "source": [
    "## The actual filtering"
   ]
  },
  {
   "cell_type": "code",
   "execution_count": null,
   "metadata": {},
   "outputs": [],
   "source": []
  }
 ],
 "metadata": {
  "kernelspec": {
   "display_name": "Python 3",
   "language": "python",
   "name": "python3"
  },
  "language_info": {
   "codemirror_mode": {
    "name": "ipython",
    "version": 3
   },
   "file_extension": ".py",
   "mimetype": "text/x-python",
   "name": "python",
   "nbconvert_exporter": "python",
   "pygments_lexer": "ipython3",
   "version": "3.7.3"
  }
 },
 "nbformat": 4,
 "nbformat_minor": 2
}
